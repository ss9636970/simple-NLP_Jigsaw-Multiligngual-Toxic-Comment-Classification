{
 "cells": [
  {
   "cell_type": "code",
   "execution_count": null,
   "id": "e963086c",
   "metadata": {},
   "outputs": [],
   "source": [
    "# !pip install transformers"
   ]
  },
  {
   "cell_type": "code",
   "execution_count": null,
   "id": "eb824724",
   "metadata": {},
   "outputs": [],
   "source": [
    "# import os\n",
    "# # import Google Drive 套件\n",
    "# from google.colab import drive\n",
    "# # 將自己的雲端硬碟掛載上去\n",
    "# drive.mount('/content/gdrive')\n",
    "\n",
    "# os.chdir('./gdrive/MyDrive/成大/justLearn/Jigsaw Rate Severity of Toxic Comments/')      # 檔案目錄"
   ]
  },
  {
   "cell_type": "code",
   "execution_count": 1,
   "id": "5dbbf6df",
   "metadata": {},
   "outputs": [],
   "source": [
    "from transformers import AutoTokenizer, AutoModel\n",
    "import pickle\n",
    "import numpy as np\n",
    "import pandas as pd\n",
    "import torch\n",
    "import torch.nn as nn\n",
    "from sklearn.linear_model import Ridge\n",
    "import joblib\n",
    "from tqdm import tqdm"
   ]
  },
  {
   "cell_type": "code",
   "execution_count": 2,
   "id": "5fc53ff7",
   "metadata": {},
   "outputs": [],
   "source": [
    "# load test data\n",
    "path = './data/testData/comments_to_score.csv'\n",
    "data = pd.read_csv(path)"
   ]
  },
  {
   "cell_type": "code",
   "execution_count": 3,
   "id": "886c9f88",
   "metadata": {},
   "outputs": [
    {
     "data": {
      "text/plain": [
       "device(type='cpu')"
      ]
     },
     "execution_count": 3,
     "metadata": {},
     "output_type": "execute_result"
    }
   ],
   "source": [
    "# 留下前510字的 function\n",
    "def stringProcess(data):\n",
    "    input_ids, token_type_ids, attention_mask = data['input_ids'], data['token_type_ids'], data['attention_mask']\n",
    "    data['input_ids'] = data['input_ids'][:, :512]\n",
    "    data['input_ids'][:, -1] = 102\n",
    "    data['token_type_ids'] = data['token_type_ids'][:, :512]\n",
    "    data['attention_mask'] = data['attention_mask'][:, :512]\n",
    "device = torch.device(\"cuda\" if torch.cuda.is_available() else \"cpu\")\n",
    "device"
   ]
  },
  {
   "cell_type": "code",
   "execution_count": 4,
   "id": "18b43eea",
   "metadata": {},
   "outputs": [
    {
     "name": "stderr",
     "output_type": "stream",
     "text": [
      "C:\\Users\\Beefnoodle\\anaconda3\\envs\\datascience\\lib\\site-packages\\sklearn\\base.py:310: UserWarning: Trying to unpickle estimator Ridge from version 1.0.2 when using version 0.24.2. This might lead to breaking code or invalid results. Use at your own risk.\n",
      "  warnings.warn(\n"
     ]
    }
   ],
   "source": [
    "# 載入並宣告bert模型\n",
    "# tokenizer = AutoTokenizer.from_pretrained(\"bert-base-cased\")\n",
    "# bert_model = AutoModel.from_pretrained(\"bert-base-cased\").to(device)\n",
    "\n",
    "tokenizer = AutoTokenizer.from_pretrained(\"./model/tokenizer/\")\n",
    "# bert_model = torch.load('./model/bert_model.pt').to(device)\n",
    "\n",
    "# ridge\n",
    "ridge_model = joblib.load('./model/ridge_model.joblib')"
   ]
  },
  {
   "cell_type": "code",
   "execution_count": 5,
   "id": "ce9afc03",
   "metadata": {},
   "outputs": [
    {
     "ename": "TypeError",
     "evalue": "__init__() missing 1 required positional argument: 'config'",
     "output_type": "error",
     "traceback": [
      "\u001b[1;31m---------------------------------------------------------------------------\u001b[0m",
      "\u001b[1;31mTypeError\u001b[0m                                 Traceback (most recent call last)",
      "\u001b[1;32m<ipython-input-5-31699286fe16>\u001b[0m in \u001b[0;36m<module>\u001b[1;34m\u001b[0m\n\u001b[1;32m----> 1\u001b[1;33m \u001b[0mbert_model\u001b[0m \u001b[1;33m=\u001b[0m \u001b[0mBertModel\u001b[0m\u001b[1;33m(\u001b[0m\u001b[1;33m)\u001b[0m\u001b[1;33m\u001b[0m\u001b[1;33m\u001b[0m\u001b[0m\n\u001b[0m",
      "\u001b[1;31mTypeError\u001b[0m: __init__() missing 1 required positional argument: 'config'"
     ]
    }
   ],
   "source": [
    "bert_model = BertModel()"
   ]
  },
  {
   "cell_type": "code",
   "execution_count": null,
   "id": "cfe7b4df",
   "metadata": {},
   "outputs": [],
   "source": []
  },
  {
   "cell_type": "code",
   "execution_count": null,
   "id": "4b95f1e0",
   "metadata": {},
   "outputs": [],
   "source": []
  },
  {
   "cell_type": "code",
   "execution_count": 27,
   "id": "dc01d4da",
   "metadata": {},
   "outputs": [
    {
     "name": "stderr",
     "output_type": "stream",
     "text": [
      "  0%|          | 10/7537 [00:01<19:05,  6.57it/s]\n"
     ]
    }
   ],
   "source": [
    "savePath = './result/ridge_result.csv'\n",
    "n = data.shape[0]\n",
    "score = []\n",
    "for i in tqdm(range(n)):\n",
    "    d = data.iloc[i, :]\n",
    "    comment_id = d['comment_id']\n",
    "    text = d['text'].replace('\\n', ' ')\n",
    "    with torch.no_grad():\n",
    "        inputs = tokenizer(text, return_tensors=\"pt\").to(device)\n",
    "        stringProcess(inputs)\n",
    "        token = bert_model(**inputs)[1].cpu().numpy()\n",
    "    s = ridge_model.predict(token)\n",
    "    score.append(s[0])\n",
    "#     if i ==10:\n",
    "#         break\n",
    "        \n",
    "ids = data['comment_id']\n",
    "score = score\n",
    "outputs_data = pd.DataFrame({'comment_id':ids, 'score':score})\n",
    "outputs_data.to_csv(savePath, index=False)"
   ]
  }
 ],
 "metadata": {
  "kernelspec": {
   "display_name": "Python 3",
   "language": "python",
   "name": "python3"
  },
  "language_info": {
   "codemirror_mode": {
    "name": "ipython",
    "version": 3
   },
   "file_extension": ".py",
   "mimetype": "text/x-python",
   "name": "python",
   "nbconvert_exporter": "python",
   "pygments_lexer": "ipython3",
   "version": "3.8.8"
  }
 },
 "nbformat": 4,
 "nbformat_minor": 5
}
