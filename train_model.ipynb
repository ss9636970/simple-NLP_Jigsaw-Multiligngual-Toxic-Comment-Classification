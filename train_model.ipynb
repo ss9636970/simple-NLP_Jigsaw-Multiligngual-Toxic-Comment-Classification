{
 "cells": [
  {
   "cell_type": "code",
   "execution_count": null,
   "id": "b208fff2",
   "metadata": {},
   "outputs": [],
   "source": [
    "# import os\n",
    "# # import Google Drive 套件\n",
    "# from google.colab import drive\n",
    "# # 將自己的雲端硬碟掛載上去\n",
    "# drive.mount('/content/gdrive')\n",
    "\n",
    "# os.chdir('./gdrive/MyDrive/成大/justLearn/Jigsaw Rate Severity of Toxic Comments/')      # 檔案目錄"
   ]
  },
  {
   "cell_type": "markdown",
   "id": "1c61c870",
   "metadata": {},
   "source": [
    "# train ridge with bert"
   ]
  },
  {
   "cell_type": "code",
   "execution_count": 8,
   "id": "adbe59f9",
   "metadata": {},
   "outputs": [],
   "source": [
    "from sklearn.linear_model import Ridge\n",
    "import numpy as np\n",
    "import pickle\n",
    "import joblib"
   ]
  },
  {
   "cell_type": "code",
   "execution_count": 6,
   "id": "7166e979",
   "metadata": {},
   "outputs": [],
   "source": [
    "# load train data\n",
    "with open('./data/trainData/training/data1_embedding.pickle', 'rb') as f:\n",
    "    data = pickle.load(f)\n",
    "X = data['embedding_vec']\n",
    "Y = np.array(data['score'])\n",
    "del(data)\n",
    "X.shape, Y.shape"
   ]
  },
  {
   "cell_type": "code",
   "execution_count": 14,
   "id": "a378bcd5",
   "metadata": {},
   "outputs": [
    {
     "data": {
      "text/plain": [
       "['./model/ridge_model.joblib']"
      ]
     },
     "execution_count": 14,
     "metadata": {},
     "output_type": "execute_result"
    }
   ],
   "source": [
    "# ridge model\n",
    "model = Ridge(alpha=1.0)\n",
    "model.fit(X[:100, :], Y[:100])\n",
    "joblib.dump(model, './model/ridge_model.joblib')"
   ]
  },
  {
   "cell_type": "markdown",
   "id": "1efd0ec4",
   "metadata": {},
   "source": [
    "# train ridge with tfidf"
   ]
  },
  {
   "cell_type": "code",
   "execution_count": 1,
   "id": "ad384f8e",
   "metadata": {},
   "outputs": [],
   "source": [
    "import pandas as pd\n",
    "import numpy as np\n",
    "import pickle\n",
    "from sklearn.linear_model import Ridge\n",
    "from sklearn.feature_extraction.text import TfidfVectorizer\n",
    "from scipy.stats import rankdata"
   ]
  },
  {
   "cell_type": "code",
   "execution_count": 2,
   "id": "ced0e300",
   "metadata": {},
   "outputs": [
    {
     "data": {
      "text/plain": [
       "((223549,), (223549,))"
      ]
     },
     "execution_count": 2,
     "metadata": {},
     "output_type": "execute_result"
    }
   ],
   "source": [
    "# load train data\n",
    "with open('./data/trainData/training/data1.pickle', 'rb') as f:\n",
    "    data = pickle.load(f)\n",
    "comment_text = np.array(data['comment_text'])\n",
    "Y = np.array(data['score'])\n",
    "del(data)\n",
    "comment_text.shape, Y.shape"
   ]
  },
  {
   "cell_type": "code",
   "execution_count": 12,
   "id": "53bce732",
   "metadata": {},
   "outputs": [],
   "source": [
    "tfidf = TfidfVectorizer(analyzer='char_wb', max_df=0.7, min_df=1, ngram_range=(2, 5))\n",
    "ridge_model = Ridge(alpha=1.0)\n",
    "X = tfidf.fit_transform(comment_text)\n",
    "ridge_model.fit(X, Y)"
   ]
  },
  {
   "cell_type": "markdown",
   "id": "109312c6",
   "metadata": {},
   "source": [
    "# train transformer"
   ]
  },
  {
   "cell_type": "code",
   "execution_count": 2,
   "id": "75eb629b",
   "metadata": {},
   "outputs": [],
   "source": [
    "from transformers import AutoTokenizer, AutoModel\n",
    "import pickle\n",
    "import numpy as np\n",
    "import torch\n",
    "import torch.nn as nn\n",
    "from tqdm import tqdm"
   ]
  },
  {
   "cell_type": "code",
   "execution_count": null,
   "id": "02ee083f",
   "metadata": {},
   "outputs": [],
   "source": []
  },
  {
   "cell_type": "code",
   "execution_count": null,
   "id": "8aefe2ce",
   "metadata": {},
   "outputs": [],
   "source": []
  },
  {
   "cell_type": "code",
   "execution_count": null,
   "id": "eccfb66e",
   "metadata": {},
   "outputs": [],
   "source": []
  }
 ],
 "metadata": {
  "kernelspec": {
   "display_name": "Python 3",
   "language": "python",
   "name": "python3"
  },
  "language_info": {
   "codemirror_mode": {
    "name": "ipython",
    "version": 3
   },
   "file_extension": ".py",
   "mimetype": "text/x-python",
   "name": "python",
   "nbconvert_exporter": "python",
   "pygments_lexer": "ipython3",
   "version": "3.8.8"
  }
 },
 "nbformat": 4,
 "nbformat_minor": 5
}
