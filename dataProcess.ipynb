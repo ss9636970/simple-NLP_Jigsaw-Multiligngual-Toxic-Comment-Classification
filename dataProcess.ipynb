{
 "cells": [
  {
   "cell_type": "code",
   "execution_count": 1,
   "id": "b8edf4bf",
   "metadata": {},
   "outputs": [],
   "source": [
    "import pandas as pd\n",
    "import numpy as np\n",
    "import pickle"
   ]
  },
  {
   "cell_type": "markdown",
   "id": "fafd3a34",
   "metadata": {},
   "source": [
    "# load data"
   ]
  },
  {
   "cell_type": "code",
   "execution_count": 8,
   "id": "8163f182",
   "metadata": {},
   "outputs": [],
   "source": [
    "# load data\n",
    "# path1 = './data/trainData/Toxic Comment Classification Challenge/train.csv'  # 65.6mb\n",
    "# path2 = './data/trainData/Jigsaw Unintended Bias in Toxicity Classification/train.csv' # 778 mb\n",
    "path3_1 = './data/trainData/Jigsaw Multilingual Toxic Comment Classification/jigsaw-toxic-comment-train.csv'  # 91.1mb\n",
    "path3_2 = './data/trainData/Jigsaw Multilingual Toxic Comment Classification/jigsaw-unintended-bias-train.csv'  # 820 mb\n",
    "df_train = pd.read_csv(path3_2)"
   ]
  },
  {
   "cell_type": "code",
   "execution_count": 11,
   "id": "87bef480",
   "metadata": {},
   "outputs": [],
   "source": [
    "# cat_mtpl = {'obscene': 0.16, 'toxic': 0.32, 'threat': 1.5, \n",
    "#             'insult': 0.64, 'severe_toxic': 1.5, 'identity_hate': 1.5}\n",
    "\n",
    "cat_mtpl = {'obscene': 0.16, 'toxic': 0.32, 'threat': 1.5, \n",
    "            'insult': 0.64, 'severe_toxicity': 1.5, 'identity_attack': 1.5}\n",
    "\n",
    "\n",
    "for category in cat_mtpl:\n",
    "    df_train[category] = df_train[category] * cat_mtpl[category]\n",
    "\n",
    "df_train['score'] = df_train.loc[:, list(cat_mtpl.keys())].mean(axis=1)\n",
    "\n",
    "# df_train['y'] = df_train['score']\n",
    "\n",
    "# min_len = (df_train['y'] > 0).sum()  # len of toxic comments\n",
    "# df_y0_undersample = df_train[df_train['y'] == 0].sample(n=min_len, random_state=41)  # take non toxic comments\n",
    "# df_train_new = pd.concat([df_train[df_train['y'] > 0], df_y0_undersample])  # make new df\n",
    "# df_train_new"
   ]
  },
  {
   "cell_type": "code",
   "execution_count": 16,
   "id": "2d08061a",
   "metadata": {},
   "outputs": [],
   "source": [
    "score = list(df_train['score'])\n",
    "# score = list(df_train['target'])\n",
    "comment_text = list(df_train['comment_text'])\n",
    "for i, s in enumerate(comment_text):\n",
    "    comment_text[i] = s.replace('\\n', ' ')\n",
    "    \n",
    "trainData = {'comment_text':comment_text, 'score':score}"
   ]
  },
  {
   "cell_type": "code",
   "execution_count": 17,
   "id": "1ded7040",
   "metadata": {},
   "outputs": [],
   "source": [
    "with open('./data/trainData/training/data2.pickle', 'wb') as f:\n",
    "    pickle.dump(trainData, f)"
   ]
  }
 ],
 "metadata": {
  "kernelspec": {
   "display_name": "Python 3",
   "language": "python",
   "name": "python3"
  },
  "language_info": {
   "codemirror_mode": {
    "name": "ipython",
    "version": 3
   },
   "file_extension": ".py",
   "mimetype": "text/x-python",
   "name": "python",
   "nbconvert_exporter": "python",
   "pygments_lexer": "ipython3",
   "version": "3.8.8"
  }
 },
 "nbformat": 4,
 "nbformat_minor": 5
}
