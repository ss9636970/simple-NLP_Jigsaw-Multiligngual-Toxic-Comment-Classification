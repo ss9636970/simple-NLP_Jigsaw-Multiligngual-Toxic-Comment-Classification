{
 "cells": [
  {
   "cell_type": "code",
   "execution_count": 1,
   "id": "72VotFP0NaCT",
   "metadata": {
    "colab": {
     "base_uri": "https://localhost:8080/"
    },
    "executionInfo": {
     "elapsed": 3582,
     "status": "ok",
     "timestamp": 1643893268966,
     "user": {
      "displayName": "汪玄同",
      "photoUrl": "https://lh3.googleusercontent.com/a/default-user=s64",
      "userId": "02762474676861075463"
     },
     "user_tz": -480
    },
    "id": "72VotFP0NaCT",
    "outputId": "f30d4169-ebae-44d4-80e9-068dc6166bcc"
   },
   "outputs": [],
   "source": [
    "# !pip install transformers"
   ]
  },
  {
   "cell_type": "code",
   "execution_count": null,
   "id": "TNQRVossNcsA",
   "metadata": {
    "colab": {
     "base_uri": "https://localhost:8080/"
    },
    "executionInfo": {
     "elapsed": 2195,
     "status": "ok",
     "timestamp": 1643893271158,
     "user": {
      "displayName": "汪玄同",
      "photoUrl": "https://lh3.googleusercontent.com/a/default-user=s64",
      "userId": "02762474676861075463"
     },
     "user_tz": -480
    },
    "id": "TNQRVossNcsA",
    "outputId": "b0f6bd39-5864-4481-9405-5da716e6ad93"
   },
   "outputs": [
    {
     "name": "stdout",
     "output_type": "stream",
     "text": [
      "Drive already mounted at /content/gdrive; to attempt to forcibly remount, call drive.mount(\"/content/gdrive\", force_remount=True).\n"
     ]
    }
   ],
   "source": [
    "# import os\n",
    "# # import Google Drive 套件\n",
    "# from google.colab import drive\n",
    "# # 將自己的雲端硬碟掛載上去\n",
    "# drive.mount('/content/gdrive')\n",
    "\n",
    "# os.chdir('./gdrive/MyDrive/成大/justLearn/Jigsaw Rate Severity of Toxic Comments/')      # 檔案目錄"
   ]
  },
  {
   "cell_type": "code",
   "execution_count": 1,
   "id": "76eab118",
   "metadata": {
    "id": "76eab118"
   },
   "outputs": [],
   "source": [
    "from transformers import AutoTokenizer, AutoModel\n",
    "import pickle\n",
    "import numpy as np\n",
    "import torch\n",
    "import torch.nn as nn\n",
    "from tqdm import tqdm"
   ]
  },
  {
   "cell_type": "code",
   "execution_count": 2,
   "id": "fc7b5eeb",
   "metadata": {
    "colab": {
     "base_uri": "https://localhost:8080/"
    },
    "executionInfo": {
     "elapsed": 3,
     "status": "ok",
     "timestamp": 1643893277005,
     "user": {
      "displayName": "汪玄同",
      "photoUrl": "https://lh3.googleusercontent.com/a/default-user=s64",
      "userId": "02762474676861075463"
     },
     "user_tz": -480
    },
    "id": "fc7b5eeb",
    "outputId": "9c0825b5-3de5-4b50-a259-1abf7b672e71"
   },
   "outputs": [
    {
     "data": {
      "text/plain": [
       "device(type='cpu')"
      ]
     },
     "execution_count": 2,
     "metadata": {},
     "output_type": "execute_result"
    }
   ],
   "source": [
    "# 留下前510字的 function\n",
    "def stringProcess(data):\n",
    "    input_ids, token_type_ids, attention_mask = data['input_ids'], data['token_type_ids'], data['attention_mask']\n",
    "    data['input_ids'] = data['input_ids'][:, :512]\n",
    "    data['input_ids'][:, -1] = 102\n",
    "    data['token_type_ids'] = data['token_type_ids'][:, :512]\n",
    "    data['attention_mask'] = data['attention_mask'][:, :512]\n",
    "device = torch.device(\"cuda\" if torch.cuda.is_available() else \"cpu\")\n",
    "device"
   ]
  },
  {
   "cell_type": "code",
   "execution_count": 3,
   "id": "056218a4",
   "metadata": {
    "colab": {
     "base_uri": "https://localhost:8080/"
    },
    "executionInfo": {
     "elapsed": 15307,
     "status": "ok",
     "timestamp": 1643893294849,
     "user": {
      "displayName": "汪玄同",
      "photoUrl": "https://lh3.googleusercontent.com/a/default-user=s64",
      "userId": "02762474676861075463"
     },
     "user_tz": -480
    },
    "id": "056218a4",
    "outputId": "99290635-1e22-47a5-e711-4b7a0b4c4640"
   },
   "outputs": [],
   "source": [
    "# 載入並宣告bert模型\n",
    "tokenizer = AutoTokenizer.from_pretrained('./model/tokenizer/')\n",
    "model = AutoModel.from_pretrained(\"./model/bert_model/\").to(device)"
   ]
  },
  {
   "cell_type": "code",
   "execution_count": 4,
   "id": "947373fe",
   "metadata": {},
   "outputs": [],
   "source": [
    "# tokenizer.save_pretrained(\"./model/tokenizer/\")\n",
    "# model.save_pretrained('./model/bert')"
   ]
  },
  {
   "cell_type": "code",
   "execution_count": null,
   "id": "a2fd2304",
   "metadata": {
    "colab": {
     "base_uri": "https://localhost:8080/"
    },
    "executionInfo": {
     "elapsed": 1363670,
     "status": "ok",
     "timestamp": 1643894823404,
     "user": {
      "displayName": "汪玄同",
      "photoUrl": "https://lh3.googleusercontent.com/a/default-user=s64",
      "userId": "02762474676861075463"
     },
     "user_tz": -480
    },
    "id": "a2fd2304",
    "outputId": "a6765c5c-6758-46c5-ec32-20ddd9236770"
   },
   "outputs": [
    {
     "name": "stderr",
     "output_type": "stream",
     "text": [
      "100%|██████████| 100000/100000 [22:39<00:00, 73.56it/s]\n"
     ]
    }
   ],
   "source": [
    "# load data\n",
    "id = 1\n",
    "path = f'./data/trainData/training/data2/data2_{id}.pickle'\n",
    "with open(path, 'rb') as f:\n",
    "    data = pickle.load(f)\n",
    "comment_text = data['comment_text']\n",
    "\n",
    "path = f'./data/trainData/training/data2_{id}_embedding.pickle'\n",
    "embedding_vec = []\n",
    "for txt in tqdm(comment_text):\n",
    "    with torch.no_grad():\n",
    "        inputs = tokenizer(txt, return_tensors=\"pt\")\n",
    "        inputs = inputs.to(device)\n",
    "        stringProcess(inputs)\n",
    "        outputs = model(**inputs)\n",
    "        embedding_vec.append(outputs[1].cpu().numpy().astype(float))\n",
    "    # break\n",
    "data['embedding_vec'] = np.concatenate(embedding_vec, axis=0)\n",
    "with open(path, 'wb') as f:\n",
    "    pickle.dump(data, f)"
   ]
  },
  {
   "cell_type": "code",
   "execution_count": null,
   "id": "aya1awXJpic8",
   "metadata": {
    "id": "aya1awXJpic8"
   },
   "outputs": [],
   "source": [
    "# data split\n",
    "path = './data/trainData/training/data2.pickle'\n",
    "with open(path, 'rb') as f:\n",
    "    data = pickle.load(f)\n",
    "\n",
    "l = len(data['score']) // 100000\n",
    "for i in range(l):\n",
    "  a, b = i * 100000, (i+1) * 100000\n",
    "  d = {'comment_text':data['comment_text'][a:b], 'score':data['score'][a:b]}\n",
    "  with open(f'./data/trainData/training/data2/data2_{i+1}.pickle', 'wb') as f:\n",
    "      pickle.dump(d, f)"
   ]
  }
 ],
 "metadata": {
  "accelerator": "GPU",
  "colab": {
   "collapsed_sections": [],
   "name": "dataEmbedding.ipynb",
   "provenance": []
  },
  "kernelspec": {
   "display_name": "Python 3.8.8 ('datascience')",
   "language": "python",
   "name": "python3"
  },
  "language_info": {
   "codemirror_mode": {
    "name": "ipython",
    "version": 3
   },
   "file_extension": ".py",
   "mimetype": "text/x-python",
   "name": "python",
   "nbconvert_exporter": "python",
   "pygments_lexer": "ipython3",
   "version": "3.8.8"
  },
  "vscode": {
   "interpreter": {
    "hash": "7c27610411228f0e0bf0e6fcace8bc3428dcbaea71b2354bd22723e1058f9ae1"
   }
  }
 },
 "nbformat": 4,
 "nbformat_minor": 5
}
